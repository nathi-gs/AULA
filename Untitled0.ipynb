{
  "nbformat": 4,
  "nbformat_minor": 0,
  "metadata": {
    "colab": {
      "provenance": [],
      "toc_visible": true,
      "mount_file_id": "1SQ6G7GaCUjRHw9JoVFsMs5wCcvquVsGP",
      "authorship_tag": "ABX9TyMHYRW0XakgkfLT8oNhACJq",
      "include_colab_link": true
    },
    "kernelspec": {
      "name": "python3",
      "display_name": "Python 3"
    },
    "language_info": {
      "name": "python"
    }
  },
  "cells": [
    {
      "cell_type": "markdown",
      "metadata": {
        "id": "view-in-github",
        "colab_type": "text"
      },
      "source": [
        "<a href=\"https://colab.research.google.com/github/nathi-gs/AULA/blob/main/Untitled0.ipynb\" target=\"_parent\"><img src=\"https://colab.research.google.com/assets/colab-badge.svg\" alt=\"Open In Colab\"/></a>"
      ]
    },
    {
      "cell_type": "markdown",
      "source": [
        "#                        BREVE ESTUDO"
      ],
      "metadata": {
        "id": "wvqpvFL9N3gP"
      }
    },
    {
      "cell_type": "markdown",
      "source": [
        "> **LIST**\n",
        "\n",
        "\n",
        "\n",
        " * Usada para armazenar vários item em uma variável.\n",
        " * Um dos quatro tipos de dados intregados em Python.\n",
        " * São criadas usando colchetes \"[ ]\".\n",
        " * Os itens são ordenados, tem uma ordem definida e não mudará.  \n",
        " * Os item são mutáveis, podemos adicionar ou remover itens de uma lista após ter sido criada.\n",
        " * As listas são indexadas, o primeiro item possui index [0], o segundo item possui index [1].\n",
        " * Permitem valores duplicados.\n",
        " * Um item da lista pode ser de qualquer tipo de dado."
      ],
      "metadata": {
        "id": "7WyfEOgmOw7R"
      }
    },
    {
      "cell_type": "code",
      "source": [
        "list = [\"Dipirona\", \"Buscopan\", \"Amato\"]\n",
        "print(list)"
      ],
      "metadata": {
        "id": "hhRXlBQOOz5B"
      },
      "execution_count": null,
      "outputs": []
    },
    {
      "cell_type": "markdown",
      "source": [
        "> SET\n",
        "\n",
        "\n",
        "\n",
        "*   Conjuntos são usados para armazenar vários itens em uma única variável.\n",
        "*   Um dos quatro tipos de dados integrados em Python.\n",
        "*   Os itens não são indexados.\n",
        "*   Não ordenado, ou seja, não possuem uma ordem definida.\n",
        "*   O item é imutável, não podemos alterá-lo após a criação do conjunto.\n",
        "*   O item apenas pode ser adicionado ou removido.\n",
        "*   Não permite duplicatas.\n",
        "*   O item da lista pode ser de qualquer tipo de dado."
      ],
      "metadata": {
        "id": "C0pCFF8uPyjb"
      }
    },
    {
      "cell_type": "code",
      "source": [
        "thisset = {\"Dipirona\", \"Buscopan\", \"Amato\"}\n",
        "print(thisset)"
      ],
      "metadata": {
        "colab": {
          "base_uri": "https://localhost:8080/"
        },
        "id": "D9KhIRYfUFWH",
        "outputId": "107ed1c4-e41d-4dee-d5b4-4b142fabaade"
      },
      "execution_count": 1,
      "outputs": [
        {
          "output_type": "stream",
          "name": "stdout",
          "text": [
            "{'Amato', 'Buscopan', 'Dipirona'}\n"
          ]
        }
      ]
    },
    {
      "cell_type": "markdown",
      "source": [],
      "metadata": {
        "id": "qmcpfi8DW-vM"
      }
    }
  ]
}
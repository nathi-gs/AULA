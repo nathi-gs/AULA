{
  "nbformat": 4,
  "nbformat_minor": 0,
  "metadata": {
    "colab": {
      "provenance": [],
      "toc_visible": true,
      "authorship_tag": "ABX9TyMuOkUUQtIYZAk5EX+TtmgK",
      "include_colab_link": true
    },
    "kernelspec": {
      "name": "python3",
      "display_name": "Python 3"
    },
    "language_info": {
      "name": "python"
    }
  },
  "cells": [
    {
      "cell_type": "markdown",
      "metadata": {
        "id": "view-in-github",
        "colab_type": "text"
      },
      "source": [
        "<a href=\"https://colab.research.google.com/github/nathi-gs/AULA/blob/main/Untitled0.ipynb\" target=\"_parent\"><img src=\"https://colab.research.google.com/assets/colab-badge.svg\" alt=\"Open In Colab\"/></a>"
      ]
    },
    {
      "cell_type": "markdown",
      "source": [
        "#Entrega 2"
      ],
      "metadata": {
        "id": "RfF1q_LAcypf"
      }
    },
    {
      "cell_type": "code",
      "source": [
        "import getpass\n",
        "import operator\n",
        "\n",
        "def login():\n",
        "\n",
        "    try:\n",
        "        with open(\"usuario.txt\", \"r\") as arquivo:\n",
        "            usuario, senha = arquivo.read().split(',')\n",
        "    except FileNotFoundError:\n",
        "        print(\"Arquivo de usuário não encontrado. Crie um arquivo 'usuario.txt' na raiz do programa.\")\n",
        "        return None\n",
        "\n",
        "    usuario_input = input(\"Digite seu nome de usuário: \")\n",
        "    senha_input = getpass.getpass(\"Digite sua senha: \")\n",
        "\n",
        "    if usuario_input == usuario and senha_input == senha:\n",
        "        return True\n",
        "    else:\n",
        "        print(\"Acesso negado. Verifique seu nome de usuário e senha.\")\n",
        "        return False\n",
        "\n",
        "\n",
        "def listar_produtos_ordenados(produtos):\n",
        "    print(\"=== MENU: Listar todos os produtos ordenados (A/Z) ===\")\n",
        "\n",
        "    print(\"(a) - Bubble sort\")\n",
        "    print(\"(b) - Insertion sort\")\n",
        "    print(\"(c) - Selection sort\")\n",
        "    metodo = input(\"Escolha o método (a, b, c): \")\n",
        "\n",
        "    print(\"(d) - crescente\")\n",
        "    print(\"(e) - decrescente\")\n",
        "    ordem = input(\"Escolha a ordem (d, e): \")\n",
        "\n",
        "    print(\"(f) - id\")\n",
        "    print(\"(g) - descricao\")\n",
        "    print(\"(h) - peso\")\n",
        "    print(\"(i) - valor\")\n",
        "    print(\"(j) - fornecedor\")\n",
        "    coluna = input(\"Escolha a coluna (f, g, h, i, j): \")\n",
        "\n",
        "    if (\n",
        "        metodo not in ['a', 'b', 'c'] or\n",
        "        ordem not in ['d', 'e'] or\n",
        "        coluna not in ['f', 'g', 'h', 'i', 'j']\n",
        "    ):\n",
        "        print(\"Opção inválida. Tente novamente.\")\n",
        "        return\n",
        "\n",
        "    if metodo == 'a' and ordem == 'd':\n",
        "        produtos_ordenados = sorted(produtos, key=operator.itemgetter(coluna))\n",
        "\n",
        "    for produto in produtos_ordenados:\n",
        "        print(produto)\n",
        "\n",
        "def menu_principal():\n",
        "    print(\"=== MENU ===\")\n",
        "    print(\"(1) Listar todos os produtos\")\n",
        "    print(\"(2) Listar produto pelo ID\")\n",
        "    print(\"(3) Listar todos os produtos ordenados (A/Z)\")\n",
        "    print(\"(4) Cadastrar novo produto\")\n",
        "    print(\"(5) Editar produto\")\n",
        "    print(\"(6) Excluir produto\")\n",
        "    print(\"(7) Sair do programa\")\n",
        "\n",
        "def main():\n",
        "    if not login():\n",
        "        return\n",
        "\n",
        "\n",
        "    produtos = []\n",
        "\n",
        "    while True:\n",
        "        menu_principal()\n",
        "        opcao = input(\"Escolha uma opção: \")\n",
        "\n",
        "        if opcao == '1':\n",
        "            pass\n",
        "        elif opcao == '2':\n",
        "            pass\n",
        "        elif opcao == '3':\n",
        "            listar_produtos_ordenados(produtos)\n",
        "        elif opcao == '4':\n",
        "            pass\n",
        "        elif opcao == '5':\n",
        "            pass\n",
        "        elif opcao == '6':\n",
        "            pass\n",
        "        elif opcao == '7':\n",
        "            print(\"Encerrando o programa...\")\n",
        "            break\n",
        "        else:\n",
        "            print(\"Opção inválida. Tente novamente.\")\n",
        "\n",
        "if __name__ == \"__main__\":\n",
        "    main()\n"
      ],
      "metadata": {
        "id": "3hBZIKvFc3oO"
      },
      "execution_count": null,
      "outputs": []
    }
  ]
}
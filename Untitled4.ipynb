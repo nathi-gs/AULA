{
  "nbformat": 4,
  "nbformat_minor": 0,
  "metadata": {
    "colab": {
      "provenance": [],
      "authorship_tag": "ABX9TyPoEATSrS/eA24ryzQDVL0K",
      "include_colab_link": true
    },
    "kernelspec": {
      "name": "python3",
      "display_name": "Python 3"
    },
    "language_info": {
      "name": "python"
    }
  },
  "cells": [
    {
      "cell_type": "markdown",
      "metadata": {
        "id": "view-in-github",
        "colab_type": "text"
      },
      "source": [
        "<a href=\"https://colab.research.google.com/github/nathi-gs/AULA/blob/main/Untitled4.ipynb\" target=\"_parent\"><img src=\"https://colab.research.google.com/assets/colab-badge.svg\" alt=\"Open In Colab\"/></a>"
      ]
    },
    {
      "cell_type": "code",
      "execution_count": 8,
      "metadata": {
        "colab": {
          "base_uri": "https://localhost:8080/"
        },
        "id": "S7j-5lHQlKkA",
        "outputId": "3d44625f-1e1b-4f82-d203-08661728b2a4"
      },
      "outputs": [
        {
          "output_type": "stream",
          "name": "stdout",
          "text": [
            "Digite um valor inteiro para A: 9\n",
            "Digite um valor inteiro para B: 8\n",
            " \n",
            "A soma é 17\n",
            " O produto é 136\n",
            " A diferença é 9\n",
            " A divisão é 2\n"
          ]
        }
      ],
      "source": [
        "A = int(input('Digite um valor inteiro para A: '))\n",
        "B = int(input('Digite um valor inteiro para B: '))\n",
        "\n",
        "A = A + B\n",
        "M = A * B\n",
        "S = A - B\n",
        "D = A // B\n",
        "\n",
        "print('A soma é {}\\n O produto é {}\\n A diferença é {}\\n A divisão é {}'.format(A, M, S, D))"
      ]
    },
    {
      "cell_type": "markdown",
      "source": [
        "No python todos os comandos são funções, então precisam de \"()\".\n",
        "\n",
        "'' -> aspas simples para mensagens/Seram exibidas na tela.\n",
        "\n",
        "print -> Imprime a mensagem.\n",
        "         pra chamar a função precisa de \"()\"\n",
        "\n",
        "-> Toda variavel é um objeto no python.\n",
        "\n",
        "= -> Recebe/Atribuição\n"
      ],
      "metadata": {
        "id": "nyyAxflasLoY"
      }
    }
  ]
}
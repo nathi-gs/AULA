{
  "cells": [
    {
      "cell_type": "markdown",
      "metadata": {
        "id": "view-in-github",
        "colab_type": "text"
      },
      "source": [
        "<a href=\"https://colab.research.google.com/github/nathi-gs/AULA/blob/main/aula_3_lista.ipynb\" target=\"_parent\"><img src=\"https://colab.research.google.com/assets/colab-badge.svg\" alt=\"Open In Colab\"/></a>"
      ]
    },
    {
      "cell_type": "code",
      "source": [
        "#Aula 3 - Listas\n",
        "#Exercicio 1 - a) Imprima o maior elemento.\n",
        "\n",
        "lista = [12, -2, 4, 8, 29, 45, 78, 36, -17, 2, 12, 8, 3, 3,-52]\n",
        "print(\"Maior numero da lista é: \", max(lista))"
      ],
      "metadata": {
        "id": "PvhavWbyOudm"
      },
      "execution_count": null,
      "outputs": []
    },
    {
      "cell_type": "code",
      "source": [
        "# Exercicio 1 - b) Imprima o menor elemento.\n",
        "\n",
        "lista = [12, -2, 4, 8, 29, 45, 78, 36, -17, 2, 12, 8, 3, 3,-52]\n",
        "print(\"Menor numero da lista é: \", min(lista))"
      ],
      "metadata": {
        "id": "SChdU2dvPGQ3",
        "outputId": "02a646d0-4889-4ce1-f390-b349eeb8e32b",
        "colab": {
          "base_uri": "https://localhost:8080/"
        }
      },
      "execution_count": 1,
      "outputs": [
        {
          "output_type": "stream",
          "name": "stdout",
          "text": [
            "Menor numero da lista é:  -52\n"
          ]
        }
      ]
    },
    {
      "cell_type": "code",
      "source": [
        "#Exercicio 1 - c) Imprima os números pares.\n",
        "\n",
        "lista = [12, -2, 4, 8, 29, 45, 78, 36, -17, 2, 12, 8, 3, 3,-52]\n",
        "\n",
        "for num in lista:\n",
        "\n",
        "    if num % 2 == 0:\n",
        "       print(num, end = \" \")"
      ],
      "metadata": {
        "id": "EN3KDmetRzKu",
        "outputId": "e469d7c3-3279-424e-d9a1-57f01271e983",
        "colab": {
          "base_uri": "https://localhost:8080/"
        }
      },
      "execution_count": 22,
      "outputs": [
        {
          "output_type": "stream",
          "name": "stdout",
          "text": [
            "12 -2 4 8 78 36 2 12 8 -52 "
          ]
        }
      ]
    },
    {
      "cell_type": "code",
      "source": [
        "#Exercicio 1 - d) Imprima o número de ocorrências do primeiro elemento da lista.\n",
        "\n",
        "lista = [12, -2, 4, 8, 29, 45, 78, 36, -17, 2, 12, 8, 3, 3,-52]\n",
        "print(\"O número de Ocorências é: \", lista.count(12))"
      ],
      "metadata": {
        "id": "kHkiLETyU8BL",
        "outputId": "d7149aec-5b5b-4994-b187-0fe1ba530554",
        "colab": {
          "base_uri": "https://localhost:8080/"
        }
      },
      "execution_count": 25,
      "outputs": [
        {
          "output_type": "stream",
          "name": "stdout",
          "text": [
            "O número de Ocorências é:  2\n"
          ]
        }
      ]
    },
    {
      "cell_type": "code",
      "source": [
        "#Exercicio 1 - e) Imprima a média dos elementos\n",
        "\n",
        "lista = [12, -2, 4, 8, 29, 45, 78, 36, -17, 2, 12, 8, 3, 3,-52]\n",
        "\n",
        "soma=0\n",
        "x=0\n",
        "while x<5:\n",
        "   soma += lista[x]\n",
        "   x += 1\n",
        "print(f\"Média: {soma/x:5.2f}\")"
      ],
      "metadata": {
        "id": "Qu9ve5qOWHXP",
        "outputId": "d981fcc1-e0eb-4bff-a66f-5944e82de65f",
        "colab": {
          "base_uri": "https://localhost:8080/"
        }
      },
      "execution_count": 28,
      "outputs": [
        {
          "output_type": "stream",
          "name": "stdout",
          "text": [
            "Média: 10.20\n"
          ]
        }
      ]
    },
    {
      "cell_type": "code",
      "source": [
        "#Exercicio 1 - f) Imprima a soma dos elementos de valor negativo.\n",
        "\n",
        "lista = [12, -2, 4, 8, 29, 45, 78, 36, -17, 2, 12, 8, 3, 3,-52]\n"
      ],
      "metadata": {
        "id": "yth35WqjZG_o"
      },
      "execution_count": null,
      "outputs": []
    }
  ],
  "metadata": {
    "colab": {
      "name": "Olá, este é o Colaboratory",
      "toc_visible": true,
      "provenance": [],
      "include_colab_link": true
    },
    "kernelspec": {
      "display_name": "Python 3",
      "name": "python3"
    }
  },
  "nbformat": 4,
  "nbformat_minor": 0
}
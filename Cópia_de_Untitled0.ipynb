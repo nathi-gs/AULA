{
  "nbformat": 4,
  "nbformat_minor": 0,
  "metadata": {
    "colab": {
      "provenance": [],
      "toc_visible": true,
      "include_colab_link": true
    },
    "kernelspec": {
      "name": "python3",
      "display_name": "Python 3"
    },
    "language_info": {
      "name": "python"
    }
  },
  "cells": [
    {
      "cell_type": "markdown",
      "metadata": {
        "id": "view-in-github",
        "colab_type": "text"
      },
      "source": [
        "<a href=\"https://colab.research.google.com/github/nathi-gs/AULA/blob/main/C%C3%B3pia_de_Untitled0.ipynb\" target=\"_parent\"><img src=\"https://colab.research.google.com/assets/colab-badge.svg\" alt=\"Open In Colab\"/></a>"
      ]
    },
    {
      "cell_type": "markdown",
      "source": [
        "#                        Exercicio 1"
      ],
      "metadata": {
        "id": "wvqpvFL9N3gP"
      }
    },
    {
      "cell_type": "markdown",
      "source": [
        "> **LIST**\n",
        "\n",
        "\n",
        "\n",
        " * Usada para armazenar vários item em uma variável.\n",
        " * Um dos quatro tipos de dados intregados em Python.\n",
        " * São criadas usando colchetes \"[ ]\".\n",
        " * Os itens são ordenados, tem uma ordem definida e não mudará.  \n",
        " * Os item são mutáveis, podemos adicionar ou remover itens de uma lista após ter sido criada.\n",
        " * As listas são indexadas, o primeiro item possui index [0], o segundo item possui index [1].\n",
        " * Permitem valores duplicados.\n",
        " * Um item da lista pode ser de qualquer tipo de dado."
      ],
      "metadata": {
        "id": "7WyfEOgmOw7R"
      }
    },
    {
      "cell_type": "code",
      "source": [
        "list = [\"Dipirona\", \"Buscopan\", \"Amato\"]\n",
        "print(list)"
      ],
      "metadata": {
        "id": "hhRXlBQOOz5B"
      },
      "execution_count": null,
      "outputs": []
    },
    {
      "cell_type": "markdown",
      "source": [
        "> SET\n",
        "\n",
        "\n",
        "\n",
        "*   Conjuntos são usados para armazenar vários itens em uma única variável.\n",
        "*   Um dos quatro tipos de dados integrados em Python.\n",
        "*   Os itens não são indexados.\n",
        "*   Não ordenado, ou seja, não possuem uma ordem definida.\n",
        "*   O item é imutável, não podemos alterá-lo após a criação do conjunto.\n",
        "*   O item apenas pode ser adicionado ou removido.\n",
        "*   Não permite duplicatas.\n",
        "*   O item da lista pode ser de qualquer tipo de dado."
      ],
      "metadata": {
        "id": "C0pCFF8uPyjb"
      }
    },
    {
      "cell_type": "code",
      "source": [
        "thisset = {\"Dipirona\", \"Buscopan\", \"Amato\"}\n",
        "print(thisset)"
      ],
      "metadata": {
        "colab": {
          "base_uri": "https://localhost:8080/"
        },
        "id": "D9KhIRYfUFWH",
        "outputId": "107ed1c4-e41d-4dee-d5b4-4b142fabaade"
      },
      "execution_count": null,
      "outputs": [
        {
          "output_type": "stream",
          "name": "stdout",
          "text": [
            "{'Amato', 'Buscopan', 'Dipirona'}\n"
          ]
        }
      ]
    },
    {
      "cell_type": "markdown",
      "source": [
        "> MAP\n",
        "\n",
        "* Executa uma função especificada para cada item da lista."
      ],
      "metadata": {
        "id": "84ClAvT7s2sV"
      }
    },
    {
      "cell_type": "code",
      "source": [
        "def myfunc(n):\n",
        "  return len(n)\n",
        "\n",
        "x = map(myfunc, ('Dipirona', 'Buscopan', 'Amato'))"
      ],
      "metadata": {
        "id": "EBmstaiiulNw"
      },
      "execution_count": null,
      "outputs": []
    },
    {
      "cell_type": "markdown",
      "source": [
        "# Exercicio 2"
      ],
      "metadata": {
        "id": "2UyJlUe5RJ5A"
      }
    },
    {
      "cell_type": "code",
      "source": [
        "listPaises = []\n",
        "\n",
        "while True:\n",
        "    nomePaises = input(\"Digite o nome de um país:\")\n",
        "    listPaises.append(nomePaises)\n",
        "    add = input(\"Adicionar outro País (1) ou ir para o Menu (2): \")\n",
        "    if add == '2':\n",
        "        print(\"*****************************\")\n",
        "        print(\"LISTAS DOS PAISES\")\n",
        "        break\n",
        "\n",
        "for item in range(len(listPaises)):\n",
        "\n",
        "   print(f\"{item}\",listPaises[item])\n",
        "\n",
        "while True:\n",
        "    print(\"\\nMENU:\")\n",
        "    print(\"1 - Criar país\")\n",
        "    print(\"2 - Listar países\")\n",
        "    print(\"3 - Atualizar país\")\n",
        "    print(\"4 - Deletar país\")\n",
        "    print(\"5 - Sair\")\n",
        "\n",
        "    opcao = input(\"Digite o número da operação desejada: \")\n",
        "\n",
        "    if opcao == \"1\":\n",
        "        nomePaises = input(\"Digite o nome do país que deseja adicionar: \")\n",
        "        listPaises.append(nomePaises)\n",
        "    elif opcao == \"2\":\n",
        "        print(\"Lista de países:\")\n",
        "        for indice, nome in enumerate(listPaises):\n",
        "            print(f\"{indice} - {nome}\")\n",
        "    elif opcao == \"3\":\n",
        "        indice = int(input(\"Digite o índice do país que deseja atualizar: \"))\n",
        "        if 0 <= indice < len(listPaises):\n",
        "            novo_nome = input(\"Digite o novo nome para o país: \")\n",
        "            listPaises[indice] = novo_nome\n",
        "            print(f'O país na posição {indice} foi atualizado para {novo_nome}')\n",
        "        else:\n",
        "            print('Índice inválido')\n",
        "    elif opcao == \"4\":\n",
        "        indice = int(input(\"Digite o índice do país que deseja deletar: \"))\n",
        "        if 0 <= indice < len(listPaises):\n",
        "            pais_removido = listPaises.pop(indice)\n",
        "            print(f'O país na posição {indice} ({pais_removido}) foi removido')\n",
        "        else:\n",
        "            print('Índice inválido')\n",
        "    elif opcao == \"5\":\n",
        "        break\n",
        "    else:\n",
        "        print(\"Opção inválida. Por favor, escolha uma opção válida.\")"
      ],
      "metadata": {
        "id": "zasBImoCHn3j"
      },
      "execution_count": null,
      "outputs": []
    },
    {
      "cell_type": "markdown",
      "source": [],
      "metadata": {
        "id": "hik0gSwrRWq-"
      }
    }
  ]
}
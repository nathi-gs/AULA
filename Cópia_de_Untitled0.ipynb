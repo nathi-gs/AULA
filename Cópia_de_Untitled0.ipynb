{
  "nbformat": 4,
  "nbformat_minor": 0,
  "metadata": {
    "colab": {
      "provenance": [],
      "toc_visible": true,
      "include_colab_link": true
    },
    "kernelspec": {
      "name": "python3",
      "display_name": "Python 3"
    },
    "language_info": {
      "name": "python"
    }
  },
  "cells": [
    {
      "cell_type": "markdown",
      "metadata": {
        "id": "view-in-github",
        "colab_type": "text"
      },
      "source": [
        "<a href=\"https://colab.research.google.com/github/nathi-gs/AULA/blob/main/C%C3%B3pia_de_Untitled0.ipynb\" target=\"_parent\"><img src=\"https://colab.research.google.com/assets/colab-badge.svg\" alt=\"Open In Colab\"/></a>"
      ]
    },
    {
      "cell_type": "markdown",
      "source": [
        "#                        Exercicio 1"
      ],
      "metadata": {
        "id": "wvqpvFL9N3gP"
      }
    },
    {
      "cell_type": "markdown",
      "source": [
        "> **LIST**\n",
        "\n",
        "\n",
        "\n",
        " * Usada para armazenar vários item em uma variável.\n",
        " * Um dos quatro tipos de dados intregados em Python.\n",
        " * São criadas usando colchetes \"[ ]\".\n",
        " * Os itens são ordenados, tem uma ordem definida e não mudará.  \n",
        " * Os item são mutáveis, podemos adicionar ou remover itens de uma lista após ter sido criada.\n",
        " * As listas são indexadas, o primeiro item possui index [0], o segundo item possui index [1].\n",
        " * Permitem valores duplicados.\n",
        " * Um item da lista pode ser de qualquer tipo de dado."
      ],
      "metadata": {
        "id": "7WyfEOgmOw7R"
      }
    },
    {
      "cell_type": "code",
      "source": [
        "list = [\"Dipirona\", \"Buscopan\", \"Amato\"]\n",
        "print(list)"
      ],
      "metadata": {
        "id": "hhRXlBQOOz5B"
      },
      "execution_count": null,
      "outputs": []
    },
    {
      "cell_type": "markdown",
      "source": [
        "> **SET**\n",
        "\n",
        "\n",
        "\n",
        "*   Conjuntos são usados para armazenar vários itens em uma única variável.\n",
        "*   Um dos quatro tipos de dados integrados em Python.\n",
        "*   Os itens não são indexados.\n",
        "*   Não ordenado, ou seja, não possuem uma ordem definida.\n",
        "*   O item é imutável, não podemos alterá-lo após a criação do conjunto.\n",
        "*   O item apenas pode ser adicionado ou removido.\n",
        "*   Não permite duplicatas.\n",
        "*   O item da lista pode ser de qualquer tipo de dado."
      ],
      "metadata": {
        "id": "C0pCFF8uPyjb"
      }
    },
    {
      "cell_type": "code",
      "source": [
        "thisset = {\"Dipirona\", \"Buscopan\", \"Amato\"}\n",
        "print(thisset)"
      ],
      "metadata": {
        "colab": {
          "base_uri": "https://localhost:8080/"
        },
        "id": "D9KhIRYfUFWH",
        "outputId": "107ed1c4-e41d-4dee-d5b4-4b142fabaade"
      },
      "execution_count": null,
      "outputs": [
        {
          "output_type": "stream",
          "name": "stdout",
          "text": [
            "{'Amato', 'Buscopan', 'Dipirona'}\n"
          ]
        }
      ]
    },
    {
      "cell_type": "markdown",
      "source": [
        "> **MAP**\n",
        "\n",
        "* Executa uma função especificada para cada item da lista."
      ],
      "metadata": {
        "id": "84ClAvT7s2sV"
      }
    },
    {
      "cell_type": "code",
      "source": [
        "def myfunc(n):\n",
        "  return len(n)\n",
        "\n",
        "x = map(myfunc, ('Dipirona', 'Buscopan', 'Amato'))"
      ],
      "metadata": {
        "id": "EBmstaiiulNw"
      },
      "execution_count": null,
      "outputs": []
    },
    {
      "cell_type": "markdown",
      "source": [
        "# Exercicio 2"
      ],
      "metadata": {
        "id": "2UyJlUe5RJ5A"
      }
    },
    {
      "cell_type": "code",
      "source": [
        "listPaises = []\n",
        "\n",
        "while True:\n",
        "    nomePaises = input(\"Digite o nome de um país:\")\n",
        "    listPaises.append(nomePaises)\n",
        "    add = input(\"Adicionar outro País (1) ou ir para o Menu (2): \")\n",
        "    if add == '2':\n",
        "        print(\"*****************************\")\n",
        "        print(\"LISTAS DOS PAISES\")\n",
        "        break\n",
        "\n",
        "for item in range(len(listPaises)):\n",
        "\n",
        "   print(f\"{item}\",listPaises[item])\n",
        "\n",
        "while True:\n",
        "    print(\"\\nMENU:\")\n",
        "    print(\"1 - Criar país\")\n",
        "    print(\"2 - Listar países\")\n",
        "    print(\"3 - Modificar país\")\n",
        "    print(\"4 - Deletar país\")\n",
        "    print(\"5 - Sair\")\n",
        "\n",
        "    opcao = input(\"Digite o número da operação desejada: \")\n",
        "\n",
        "    if opcao == \"1\":\n",
        "        nomePaises = input(\"Digite o nome do país que deseja adicionar: \")\n",
        "        listPaises.append(nomePaises)\n",
        "    elif opcao == \"2\":\n",
        "        print(\"Lista de países:\")\n",
        "        for indice, nome in enumerate(listPaises):\n",
        "            print(f\"{indice} - {nome}\")\n",
        "    elif opcao == \"3\":\n",
        "        indice = int(input(\"Digite o índice do país que deseja modificar: \"))\n",
        "        if 0 <= indice < len(listPaises):\n",
        "            novo_nome = input(\"Digite o novo nome para o país: \")\n",
        "            listPaises[indice] = novo_nome\n",
        "            print(f'O país na posição {indice} foi modificado para {novo_nome}')\n",
        "        else:\n",
        "            print('Índice inválido')\n",
        "    elif opcao == \"4\":\n",
        "        indice = int(input(\"Digite o índice do país que deseja deletar: \"))\n",
        "        if 0 <= indice < len(listPaises):\n",
        "            pais_removido = listPaises.pop(indice)\n",
        "            print(f'O país na posição {indice} ({pais_removido}) foi removido')\n",
        "        else:\n",
        "            print('Índice inválido')\n",
        "    elif opcao == \"5\":\n",
        "        break\n",
        "    else:\n",
        "        print(\"Opção inválida. Por favor, escolha uma opção válida.\")"
      ],
      "metadata": {
        "id": "zasBImoCHn3j"
      },
      "execution_count": null,
      "outputs": []
    },
    {
      "cell_type": "markdown",
      "source": [
        "# Exercicio 3\n"
      ],
      "metadata": {
        "id": "hik0gSwrRWq-"
      }
    },
    {
      "cell_type": "code",
      "source": [
        "jogadores = {}\n",
        "\n",
        "while True:\n",
        "    print(\"\\nMENU:\")\n",
        "    print(\"1 - Adicionar jogador\")\n",
        "    print(\"2 - Listar jogadores (Máximo 20)\")\n",
        "    print(\"3 - Atualizar jogador\")\n",
        "    print(\"4 - Deletar jogador\")\n",
        "    print(\"5 - Sair\")\n",
        "\n",
        "    opcao = input(\"Digite o número da operação desejada: \")\n",
        "\n",
        "    if opcao == \"1\":\n",
        "        if len(jogadores) < 20:\n",
        "            camisa = input(\"Digite o número da camisa do jogador: \")\n",
        "            nome = input(\"Digite o nome do jogador: \")\n",
        "            jogadores[camisa] = nome\n",
        "            print(f\"Jogador {nome} adicionado com sucesso.\")\n",
        "        else:\n",
        "            print(\"Limite de 20 jogadores atingido. Não é possível adicionar mais jogadores.\")\n",
        "\n",
        "    elif opcao == \"2\":\n",
        "        if jogadores:\n",
        "            print(\"Lista de jogadores:\")\n",
        "            for camisa, nome in jogadores.items():\n",
        "                print(f\"Número da camisa: {camisa}, Nome: {nome}\")\n",
        "        else:\n",
        "            print(\"A lista de jogadores está vazia.\")\n",
        "\n",
        "    elif opcao == \"3\":\n",
        "        camisa = input(\"Digite o número da camisa do jogador que deseja atualizar: \")\n",
        "        if camisa in jogadores:\n",
        "            nome = input(\"Digite o novo nome do jogador: \")\n",
        "            jogadores[camisa] = nome\n",
        "            print(f\"O jogador com número da camisa {camisa} foi atualizado para {nome}.\")\n",
        "        else:\n",
        "            print(\"Número da camisa não encontrado.\")\n",
        "\n",
        "    elif opcao == \"4\":\n",
        "        camisa = input(\"Digite o número da camisa do jogador que deseja deletar: \")\n",
        "        if camisa in jogadores:\n",
        "            del jogadores[camisa]\n",
        "            print(f\"O jogador com número da camisa {camisa} foi removido.\")\n",
        "        else:\n",
        "            print(\"Número da camisa não encontrado.\")\n",
        "\n",
        "    elif opcao == \"5\":\n",
        "        print(\"Obrigado por usar o CRUD de jogadores. Até logo!\")\n",
        "        break\n",
        "\n",
        "    else:\n",
        "        print(\"Opção inválida. Por favor, escolha uma opção válida.\")\n"
      ],
      "metadata": {
        "id": "OzUwPnN4Uhfc"
      },
      "execution_count": null,
      "outputs": []
    },
    {
      "cell_type": "markdown",
      "source": [
        "# Exercicio 4"
      ],
      "metadata": {
        "id": "o1fpnkEuZdGP"
      }
    },
    {
      "cell_type": "code",
      "source": [
        "def adicionar_item(arquivo, item):\n",
        "    with open(arquivo, 'a') as file:\n",
        "        file.write(item + '\\n')\n",
        "\n",
        "def listar_itens(arquivo):\n",
        "    try:\n",
        "        with open(arquivo, 'r') as file:\n",
        "            itens = file.readlines()\n",
        "            if itens:\n",
        "                for i, item in enumerate(itens, start=1):\n",
        "                    print(f\"{i}. {item.strip()}\")\n",
        "            else:\n",
        "                print(\"A lista está vazia.\")\n",
        "    except FileNotFoundError:\n",
        "        print(\"Arquivo não encontrado.\")\n",
        "\n",
        "def alterar_item(arquivo, numero_item, novo_valor):\n",
        "    try:\n",
        "        with open(arquivo, 'r') as file:\n",
        "            itens = file.readlines()\n",
        "            if 1 <= numero_item <= len(itens):\n",
        "                itens[numero_item - 1] = novo_valor + '\\n'\n",
        "                with open(arquivo, 'w') as file:\n",
        "                    file.writelines(itens)\n",
        "                print(f\"Item {numero_item} alterado para: {novo_valor}\")\n",
        "            else:\n",
        "                print(\"Número de item inválido.\")\n",
        "    except FileNotFoundError:\n",
        "        print(\"Arquivo não encontrado.\")\n",
        "\n",
        "def excluir_item(arquivo, numero_item):\n",
        "    try:\n",
        "        with open(arquivo, 'r') as file:\n",
        "            itens = file.readlines()\n",
        "            if 1 <= numero_item <= len(itens):\n",
        "                item_removido = itens.pop(numero_item - 1)\n",
        "                with open(arquivo, 'w') as file:\n",
        "                    file.writelines(itens)\n",
        "                print(f\"Item removido: {item_removido.strip()}\")\n",
        "            else:\n",
        "                print(\"Número de item inválido.\")\n",
        "    except FileNotFoundError:\n",
        "        print(\"Arquivo não encontrado.\")\n",
        "\n",
        "# Teste das funções\n",
        "arquivo = \"lista_itens.txt\"\n",
        "\n",
        "while True:\n",
        "    print(\"\\nOpções disponíveis:\")\n",
        "    print(\"1 - Adicionar item\")\n",
        "    print(\"2 - Listar itens\")\n",
        "    print(\"3 - Alterar item\")\n",
        "    print(\"4 - Excluir item\")\n",
        "    print(\"5 - Sair\")\n",
        "\n",
        "    opcao = input(\"Digite o número da operação desejada: \")\n",
        "\n",
        "    if opcao == \"1\":\n",
        "        novo_item = input(\"Digite o novo item: \")\n",
        "        adicionar_item(arquivo, novo_item)\n",
        "    elif opcao == \"2\":\n",
        "        listar_itens(arquivo)\n",
        "    elif opcao == \"3\":\n",
        "        listar_itens(arquivo)\n",
        "        numero_item = int(input(\"Digite o número do item que deseja alterar: \"))\n",
        "        novo_valor = input(\"Digite o novo valor para o item: \")\n",
        "        alterar_item(arquivo, numero_item, novo_valor)\n",
        "    elif opcao == \"4\":\n",
        "        listar_itens(arquivo)\n",
        "        numero_item = int(input(\"Digite o número do item que deseja excluir: \"))\n",
        "        excluir_item(arquivo, numero_item)\n",
        "    elif opcao == \"5\":\n",
        "        print(\"Obrigado por usar o programa. Até logo!\")\n",
        "        break\n",
        "    else:\n",
        "        print(\"Opção inválida. Por favor, escolha uma opção válida.\")\n"
      ],
      "metadata": {
        "id": "-sIEIUyZZiOl"
      },
      "execution_count": null,
      "outputs": []
    },
    {
      "cell_type": "markdown",
      "source": [
        "# Exercicio 5"
      ],
      "metadata": {
        "id": "5SAkRuUCbXr1"
      }
    },
    {
      "cell_type": "markdown",
      "source": [
        "> Bubble Sort\n",
        "\n",
        "* Classificação por bolha.\n",
        "* Algortimo básico, para organizar uma sequência de números ou outros elementos na ordem correta.\n",
        "* Compara repetidamente pares de elementos adjacentes e, em seguida, troca as suas posições se existirem na ordem errada."
      ],
      "metadata": {
        "id": "G1AStbpVdlMs"
      }
    },
    {
      "cell_type": "code",
      "source": [
        "def bubble_sort(list1):\n",
        "    # Outer loop for traverse the entire list\n",
        "    for i in range(0,len(list1)-1):\n",
        "        for j in range(len(list1)-1):\n",
        "            if(list1[j]>list1[j+1]):\n",
        "                temp = list1[j]\n",
        "                list1[j] = list1[j+1]\n",
        "                list1[j+1] = temp\n",
        "    return list1\n",
        "\n",
        "list1 = [5, 3, 8, 6, 7, 2]\n",
        "print(\"A lista não é ordenada: \", list1)\n",
        "# Calling the bubble sort function\n",
        "print(\"A lista é ordenada: \", bubble_sort(list1))"
      ],
      "metadata": {
        "colab": {
          "base_uri": "https://localhost:8080/"
        },
        "id": "Gw2Qa1OEfNql",
        "outputId": "c9f472a5-7414-4efc-cfb4-74efeb576aaa"
      },
      "execution_count": null,
      "outputs": [
        {
          "output_type": "stream",
          "name": "stdout",
          "text": [
            "A lista não é ordenada:  [5, 3, 8, 6, 7, 2]\n",
            "A lista é ordenada:  [2, 3, 5, 6, 7, 8]\n"
          ]
        }
      ]
    },
    {
      "cell_type": "markdown",
      "source": [
        "# Exercicio 6"
      ],
      "metadata": {
        "id": "zlECOrJbg6mF"
      }
    },
    {
      "cell_type": "code",
      "source": [
        "import os\n",
        "\n",
        "# Função para autenticar o usuário\n",
        "def autenticar_usuario(nome,senha):\n",
        "        with open('usuario.txt', 'a') as file:\n",
        "            file.write(f\"Nome: {nome}, Senha: {senha}\\n\")\n",
        "\n",
        "\n",
        "# Função para listar todos os produtos\n",
        "def listar_produtos(produtos):\n",
        "    if produtos:\n",
        "        for produto in produtos:\n",
        "            print(produto)\n",
        "    else:\n",
        "        print(\"Nenhum produto cadastrado.\")\n",
        "\n",
        "# Função para listar um produto pelo ID\n",
        "def listar_produto_por_id(produtos, id_produto):\n",
        "    for produto in produtos:\n",
        "        if produto['id'] == id_produto:\n",
        "            print(produto)\n",
        "            return\n",
        "    print(f\"Produto com ID {id_produto} não encontrado.\")\n",
        "\n",
        "# Função para ordenar a lista de produtos por descrição (A/Z)\n",
        "def ordenar_produtos(produtos, ordem_crescente=True):\n",
        "    return sorted(produtos, key=lambda x: x['descricao'], reverse=not ordem_crescente)\n",
        "\n",
        "# Função para cadastrar um novo produto\n",
        "def cadastrar_produto(produtos):\n",
        "    id_produto = len(produtos) + 1\n",
        "    descricao = input(\"Digite a descrição do produto: \")\n",
        "    peso = input(\"Digite o peso do produto: \")\n",
        "    valor = input(\"Digite o valor do produto: \")\n",
        "    fornecedor = input(\"Digite o fornecedor do produto: \")\n",
        "\n",
        "    novo_produto = {\n",
        "        'id': id_produto,\n",
        "        'descricao': descricao,\n",
        "        'peso': peso,\n",
        "        'valor': valor,\n",
        "        'fornecedor': fornecedor\n",
        "    }\n",
        "\n",
        "    produtos.append(novo_produto)\n",
        "    print(\"Produto cadastrado com sucesso!\")\n",
        "\n",
        "# Função para editar um produto pelo ID\n",
        "def editar_produto(produtos, id_produto):\n",
        "    for produto in produtos:\n",
        "        if produto['id'] == id_produto:\n",
        "            print(f\"Produto atual: {produto}\")\n",
        "            descricao = input(\"Digite a nova descrição do produto: \")\n",
        "            peso = input(\"Digite o novo peso do produto: \")\n",
        "            valor = input(\"Digite o novo valor do produto: \")\n",
        "            fornecedor = input(\"Digite o novo fornecedor do produto: \")\n",
        "\n",
        "            produto['descricao'] = descricao\n",
        "            produto['peso'] = peso\n",
        "            produto['valor'] = valor\n",
        "            produto['fornecedor'] = fornecedor\n",
        "\n",
        "            print(f\"Produto com ID {id_produto} foi atualizado.\")\n",
        "            return\n",
        "\n",
        "    print(f\"Produto com ID {id_produto} não encontrado.\")\n",
        "\n",
        "# Função para excluir um produto pelo ID\n",
        "def excluir_produto(produtos, id_produto):\n",
        "    for produto in produtos:\n",
        "        if produto['id'] == id_produto:\n",
        "            produtos.remove(produto)\n",
        "            print(f\"Produto com ID {id_produto} foi removido.\")\n",
        "            return\n",
        "\n",
        "    print(f\"Produto com ID {id_produto} não encontrado.\")\n",
        "\n",
        "# Função para salvar os produtos em um arquivo\n",
        "def salvar_produtos_em_arquivo(produtos):\n",
        "    with open(\"produtos.txt\", \"w\") as arquivo_produtos:\n",
        "        for produto in produtos:\n",
        "            arquivo_produtos.write(f\"ID: {produto['id']},DescriCao: {produto['descricao']},Peso: {produto['peso']},Valor: {produto['valor']},Fornecedor: {produto['fornecedor']}\\n\")\n",
        "\n",
        "# Função principal\n",
        "def main():\n",
        "    # Autenticar o usuário\n",
        "    nome = input(\"Digite o nome de usuário: \")\n",
        "    senha = input(\"Digite a senha: \")\n",
        "    autenticar_usuario(nome, senha)\n",
        "\n",
        "    # Carregar os produtos do arquivo\n",
        "    produtos = []\n",
        "    if os.path.isfile(\"produtos.txt\"):\n",
        "        with open(\"produtos.txt\", \"r\") as arquivo_produtos:\n",
        "            for linha in arquivo_produtos:\n",
        "                id_produto, descricao, peso, valor, fornecedor = linha.strip().split(\",\")\n",
        "                produtos.append({\n",
        "                    'id': int(id_produto),\n",
        "                    'descricao': descricao,\n",
        "                    'peso': peso,\n",
        "                    'valor': valor,\n",
        "                    'fornecedor': fornecedor\n",
        "                })\n",
        "\n",
        "    while True:\n",
        "        print(\"\\n=== MENU ===\")\n",
        "        print(\"(1) Listar todos os produtos\")\n",
        "        print(\"(2) Listar produto pelo ID\")\n",
        "        print(\"(3) Listar todos os produtos ordenados (A/Z)\")\n",
        "        print(\"(4) Cadastrar novo produto\")\n",
        "        print(\"(5) Editar produto\")\n",
        "        print(\"(6) Excluir produto\")\n",
        "        print(\"(7) Sair do programa\")\n",
        "        opcao = input(\"Digite o número da operação desejada: \")\n",
        "\n",
        "        if opcao == \"1\":\n",
        "            listar_produtos(produtos)\n",
        "        elif opcao == \"2\":\n",
        "            id_produto = int(input(\"Digite o ID do produto: \"))\n",
        "            listar_produto_por_id(produtos, id_produto)\n",
        "        elif opcao == \"3\":\n",
        "            ordem = input(\"Listar em ordem crescente (A) ou decrescente (Z): \").upper()\n",
        "            if ordem == \"A\":\n",
        "                produtos_ordenados = ordenar_produtos(produtos, ordem_crescente=True)\n",
        "            elif ordem == \"Z\":\n",
        "                produtos_ordenados = ordenar_produtos(produtos, ordem_crescente=False)\n",
        "            else:\n",
        "                print(\"Opção inválida.\")\n",
        "                continue\n",
        "            listar_produtos(produtos_ordenados)\n",
        "        elif opcao == \"4\":\n",
        "            cadastrar_produto(produtos)\n",
        "        elif opcao == \"5\":\n",
        "            id_produto = int(input(\"Digite o ID do produto que deseja editar: \"))\n",
        "            editar_produto(produtos, id_produto)\n",
        "        elif opcao == \"6\":\n",
        "            id_produto = int(input(\"Digite o ID do produto que deseja excluir: \"))\n",
        "            excluir_produto(produtos, id_produto)\n",
        "        elif opcao == \"7\":\n",
        "            salvar_produtos_em_arquivo(produtos)\n",
        "            print(\"Obrigado por usar o programa. Até logo!\")\n",
        "            break\n",
        "        else:\n",
        "            print(\"Opção inválida. Por favor, escolha uma opção válida.\")\n",
        "\n",
        "if __name__ == \"__main__\":\n",
        "    main()"
      ],
      "metadata": {
        "id": "86mDcjtNmDLG"
      },
      "execution_count": null,
      "outputs": []
    }
  ]
}
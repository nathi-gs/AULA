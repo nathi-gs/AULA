{
  "cells": [
    {
      "cell_type": "markdown",
      "metadata": {
        "id": "view-in-github",
        "colab_type": "text"
      },
      "source": [
        "<a href=\"https://colab.research.google.com/github/nathi-gs/AULA/blob/main/agenda_de_contatos.ipynb\" target=\"_parent\"><img src=\"https://colab.research.google.com/assets/colab-badge.svg\" alt=\"Open In Colab\"/></a>"
      ]
    },
    {
      "cell_type": "code",
      "source": [
        "grid = [['00', '01', '02'],['10','11','12'],['20','21','22']]\n",
        "\n",
        "for linha in grid:\n",
        "  for coluna in linha:\n",
        "    print(coluna, end=\" \")\n",
        "  print(\"\")\n",
        "\n",
        "venceu = False\n",
        "velha = False\n",
        "tentativas = 0\n",
        "\n",
        "while not venceu and not velha:\n",
        "\n",
        "  jogada = input(\"Coloque X ou O: \")\n",
        "  i = int(input(\"Em qual linha: \"))\n",
        "  j = int(input(\"Em qual coluna: \"))\n",
        "\n",
        "  grid[i][j] = jogada\n",
        "  tentativas +=1\n",
        "\n",
        "  for linha in grid:\n",
        "    for coluna in linha:\n",
        "      print(coluna, end=\" \")\n",
        "    print(\"\")\n",
        "\n",
        "  if (grid[0][0]==grid[1][1]==grid[2][2]):\n",
        "    venceu=True\n",
        "  else:\n",
        "    for i in range(0, len(grid)):\n",
        "      if (grid[i][0]==grid[i][1]==grid[i][2]):\n",
        "        venceu = True\n",
        "        break\n",
        "      elif(grid[0][i]==grid[1][i]==grid[2][i]):\n",
        "        venceu = True\n",
        "        break\n",
        "\n",
        "  if tentativas==9:\n",
        "   velha = True\n",
        "\n",
        "if (venceu==True):\n",
        "  print(f\"O jogador de {jogada} é vencedor!!!!!!!!!!!!!!\")\n",
        "else:\n",
        "  print(\"Uau!! Deu velha!!!!!!!!\")"
      ],
      "metadata": {
        "id": "4p8YpnJNg7DP",
        "outputId": "a0b408cc-b28d-49a9-d0c5-1199c93f3fd5",
        "colab": {
          "base_uri": "https://localhost:8080/",
          "height": 1000
        }
      },
      "execution_count": 8,
      "outputs": [
        {
          "name": "stdout",
          "output_type": "stream",
          "text": [
            "00 01 02 \n",
            "10 11 12 \n",
            "20 21 22 \n",
            "Coloque X ou O: X\n",
            "Em qual linha: 2\n",
            "Em qual coluna: 1\n",
            "00 01 02 \n",
            "10 11 12 \n",
            "20 X 22 \n",
            "Coloque X ou O: 0\n",
            "Em qual linha: 0\n",
            "Em qual coluna: 1\n",
            "00 0 02 \n",
            "10 11 12 \n",
            "20 X 22 \n",
            "Coloque X ou O: X\n",
            "Em qual linha: 1\n",
            "Em qual coluna: 2\n",
            "00 0 02 \n",
            "10 11 X \n",
            "20 X 22 \n",
            "Coloque X ou O: O\n",
            "Em qual linha: 0\n",
            "Em qual coluna: 0\n",
            "O 0 02 \n",
            "10 11 X \n",
            "20 X 22 \n",
            "Coloque X ou O: x\n",
            "Em qual linha: 0\n",
            "Em qual coluna: 2\n",
            "O 0 x \n",
            "10 11 X \n",
            "20 X 22 \n",
            "Coloque X ou O: O\n",
            "Em qual linha: 1\n",
            "Em qual coluna: 1\n",
            "O 0 x \n",
            "10 O X \n",
            "20 X 22 \n",
            "Coloque X ou O: x\n",
            "Em qual linha: 2\n",
            "Em qual coluna: 2\n",
            "O 0 x \n",
            "10 O X \n",
            "20 X x \n",
            "Coloque X ou O: h\n",
            "Em qual linha: h\n"
          ]
        },
        {
          "output_type": "error",
          "ename": "ValueError",
          "evalue": "invalid literal for int() with base 10: 'h'",
          "traceback": [
            "\u001b[0;31m---------------------------------------------------------------------------\u001b[0m",
            "\u001b[0;31mValueError\u001b[0m                                Traceback (most recent call last)",
            "\u001b[0;32m<ipython-input-8-57e0a54f94f0>\u001b[0m in \u001b[0;36m<cell line: 12>\u001b[0;34m()\u001b[0m\n\u001b[1;32m     13\u001b[0m \u001b[0;34m\u001b[0m\u001b[0m\n\u001b[1;32m     14\u001b[0m   \u001b[0mjogada\u001b[0m \u001b[0;34m=\u001b[0m \u001b[0minput\u001b[0m\u001b[0;34m(\u001b[0m\u001b[0;34m\"Coloque X ou O: \"\u001b[0m\u001b[0;34m)\u001b[0m\u001b[0;34m\u001b[0m\u001b[0;34m\u001b[0m\u001b[0m\n\u001b[0;32m---> 15\u001b[0;31m   \u001b[0mi\u001b[0m \u001b[0;34m=\u001b[0m \u001b[0mint\u001b[0m\u001b[0;34m(\u001b[0m\u001b[0minput\u001b[0m\u001b[0;34m(\u001b[0m\u001b[0;34m\"Em qual linha: \"\u001b[0m\u001b[0;34m)\u001b[0m\u001b[0;34m)\u001b[0m\u001b[0;34m\u001b[0m\u001b[0;34m\u001b[0m\u001b[0m\n\u001b[0m\u001b[1;32m     16\u001b[0m   \u001b[0mj\u001b[0m \u001b[0;34m=\u001b[0m \u001b[0mint\u001b[0m\u001b[0;34m(\u001b[0m\u001b[0minput\u001b[0m\u001b[0;34m(\u001b[0m\u001b[0;34m\"Em qual coluna: \"\u001b[0m\u001b[0;34m)\u001b[0m\u001b[0;34m)\u001b[0m\u001b[0;34m\u001b[0m\u001b[0;34m\u001b[0m\u001b[0m\n\u001b[1;32m     17\u001b[0m \u001b[0;34m\u001b[0m\u001b[0m\n",
            "\u001b[0;31mValueError\u001b[0m: invalid literal for int() with base 10: 'h'"
          ]
        }
      ]
    },
    {
      "cell_type": "code",
      "source": [
        "\n",
        "agenda = {}\n",
        "campos [\"nome\", \"telefone\", \"email\", \"datanasc\"]\n",
        "\n",
        "while 1:\n",
        "  ope = int(input(\"\"\"\n",
        "                   Agenda Pessoal\n",
        "                1 - Salvar Contato\n",
        "                2 - Alterar Contato\n",
        "                3 - Buscar Contato\n",
        "                4 - Apagar Contato\n",
        "                5 - Lista Contatos\n",
        "\n",
        "        Pressione 0 para sair.\n",
        "\n",
        "    \"\"\"))\n",
        "\n",
        "if ope == 1:\n",
        "    nome = input(\"Nome: \")\n",
        "    telefone= input(\"Telefone: \")\n",
        "    email = input(\"email: \")\n",
        "    datanasc = input(\"Data de Nascimento: \")\n",
        "    contato = [nome, telefone, email, datanasc]\n",
        "    agenda[nome]=contato\n",
        "    print(f\"O contato de {nome} foi salvo com sucesso\")\n",
        "\n",
        "elif ope == 2:\n",
        "    nome = input(\"Qual contato voce quer alterar: \")\n",
        "    print(agenda[nome])\n",
        "    campo = input(\"Qual dado quer alterar: \")\n",
        "    novo = input(\"Qual o novo valor: \")\n",
        "    agenda[nome][campos.index(campo)] = novo\n",
        "    print(f\"O dado {} foi alterado.\")\n",
        "\n",
        "elif ope == 3:\n",
        "     nome = input(\"Qual contato quer buscar: \")\n",
        "     contato = agenda[nome]\n",
        "     print(contato)\n",
        "elif ope == 4:\n",
        "     nome = input(\"Qual contato: \")\n",
        "     del agenda[nome]\n",
        "     print(f\"O contato de {nome} foi apagado com sucesso!\")\n",
        "elif ope == 5:\n",
        "     for contato in agenda.values():\n",
        "         print(contato)\n",
        "elif ope == 0:\n",
        "  break\n",
        "\n",
        "else:\n",
        "  print(\"Opção Invalida!\")"
      ],
      "metadata": {
        "id": "SaGKiqlknVZW",
        "outputId": "aabe7d75-902c-4660-f844-70af1aace429",
        "colab": {
          "base_uri": "https://localhost:8080/",
          "height": 106
        }
      },
      "execution_count": 18,
      "outputs": [
        {
          "output_type": "error",
          "ename": "SyntaxError",
          "evalue": "f-string: empty expression not allowed (<ipython-input-18-f015137895ee>, line 31)",
          "traceback": [
            "\u001b[0;36m  File \u001b[0;32m\"<ipython-input-18-f015137895ee>\"\u001b[0;36m, line \u001b[0;32m31\u001b[0m\n\u001b[0;31m    print(f\"O dado {} foi alterado.\")\u001b[0m\n\u001b[0m                                    ^\u001b[0m\n\u001b[0;31mSyntaxError\u001b[0m\u001b[0;31m:\u001b[0m f-string: empty expression not allowed\n"
          ]
        }
      ]
    }
  ],
  "metadata": {
    "colab": {
      "name": "Olá, este é o Colaboratory",
      "toc_visible": true,
      "provenance": [],
      "include_colab_link": true
    },
    "kernelspec": {
      "display_name": "Python 3",
      "name": "python3"
    }
  },
  "nbformat": 4,
  "nbformat_minor": 0
}
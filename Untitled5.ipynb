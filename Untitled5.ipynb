{
  "nbformat": 4,
  "nbformat_minor": 0,
  "metadata": {
    "colab": {
      "provenance": [],
      "authorship_tag": "ABX9TyNh8ofQ7weYjEO2AzRHBNhU",
      "include_colab_link": true
    },
    "kernelspec": {
      "name": "python3",
      "display_name": "Python 3"
    },
    "language_info": {
      "name": "python"
    }
  },
  "cells": [
    {
      "cell_type": "markdown",
      "metadata": {
        "id": "view-in-github",
        "colab_type": "text"
      },
      "source": [
        "<a href=\"https://colab.research.google.com/github/nathi-gs/AULA/blob/main/Untitled5.ipynb\" target=\"_parent\"><img src=\"https://colab.research.google.com/assets/colab-badge.svg\" alt=\"Open In Colab\"/></a>"
      ]
    },
    {
      "cell_type": "code",
      "execution_count": 2,
      "metadata": {
        "colab": {
          "base_uri": "https://localhost:8080/",
          "height": 106
        },
        "id": "HpBTvlZswwhQ",
        "outputId": "0ac3aea7-4a34-46d0-b75f-343fe8d2c298"
      },
      "outputs": [
        {
          "output_type": "error",
          "ename": "SyntaxError",
          "evalue": "expected ':' (<ipython-input-2-77f0adec9810>, line 20)",
          "traceback": [
            "\u001b[0;36m  File \u001b[0;32m\"<ipython-input-2-77f0adec9810>\"\u001b[0;36m, line \u001b[0;32m20\u001b[0m\n\u001b[0;31m    for i,letra in enumerate(palavra_reservada)\u001b[0m\n\u001b[0m                                               ^\u001b[0m\n\u001b[0;31mSyntaxError\u001b[0m\u001b[0;31m:\u001b[0m expected ':'\n"
          ]
        }
      ],
      "source": [
        "print(\"\"\"             *********************\n",
        "                      *** JOGO DA FORCA ***\n",
        "                      *********************\n",
        "\"\"\")\n",
        "\n",
        "palavra_reservada=\"Banana\"\n",
        "\n",
        "palavra=['_','_','_','_','_','_']\n",
        "\n",
        "print(palavra)\n",
        "\n",
        "acertou=False\n",
        "enforcou=False\n",
        "erros=0\n",
        "\n",
        "while not acertou and not enforcou:\n",
        "\n",
        "   chute = input(\"Chuta uma letra: \")\n",
        "\n",
        "   for i,letra in enumerate(palavra_reservada)\n",
        "       if chute.upper()==letra.upper():\n",
        "          palavra[i]=chute\n",
        "\n",
        "   erros+=1\n",
        "\n",
        "   acertou = not \"_\" in palavra\n",
        "   enforcou = erros==6\n",
        "\n",
        "print(palavra)\n",
        "\n",
        "if acertou==True:\n",
        "    print(\"\"\"\n",
        "                 ********* Você venceu *********\n",
        "    \"\"\")\n",
        "else:\n",
        "   print(\"\"\"\n",
        "                ********* Game Over! *********\n",
        "    \"\"\")\n",
        "\n"
      ]
    }
  ]
}